{
 "cells": [
  {
   "cell_type": "markdown",
   "id": "66eacf4f",
   "metadata": {},
   "source": [
    "This notebook is for building AutoLinearizers."
   ]
  },
  {
   "cell_type": "code",
   "execution_count": 1,
   "id": "480456e4",
   "metadata": {},
   "outputs": [],
   "source": [
    "import json\n",
    "\n",
    "import video2vision as v2v\n",
    "import numpy as np\n",
    "from PIL import Image, ImageDraw\n",
    "\n",
    "from crosshairs import SampleSelector\n",
    "from utils import get_size\n",
    "\n",
    "IMAGE_PATH = '/data/hot/color/camera_data/2022-09-23/VIS_vid/C0002.MP4'\n",
    "EXPECTED_VALUES_PATH = '../data/aruco_samples.csv'\n",
    "SAMPLE_REFLECTIVITIES_PATH = '../data/aruco_samples.csv'\n",
    "CAMERA_SENSE_PATH = '../data/camera_sensitivities.csv'\n",
    "OUTPUT_PATH = 'autolinearizer.json'"
   ]
  },
  {
   "cell_type": "markdown",
   "id": "d84c62b5",
   "metadata": {},
   "source": [
    "We begin by running the ARUCO detector on the input image."
   ]
  },
  {
   "cell_type": "code",
   "execution_count": 2,
   "id": "79429039",
   "metadata": {},
   "outputs": [
    {
     "ename": "TypeError",
     "evalue": "'NoneType' object is not subscriptable",
     "output_type": "error",
     "traceback": [
      "\u001b[0;31m---------------------------------------------------------------------------\u001b[0m",
      "\u001b[0;31mTypeError\u001b[0m                                 Traceback (most recent call last)",
      "Cell \u001b[0;32mIn[2], line 4\u001b[0m\n\u001b[1;32m      1\u001b[0m image_size \u001b[38;5;241m=\u001b[39m get_size(IMAGE_PATH)\n\u001b[1;32m      2\u001b[0m reader \u001b[38;5;241m=\u001b[39m v2v\u001b[38;5;241m.\u001b[39mLoader(IMAGE_PATH, image_size)\n\u001b[0;32m----> 4\u001b[0m \u001b[38;5;28;01mfor\u001b[39;00m t, (frame, _) \u001b[38;5;129;01min\u001b[39;00m \u001b[38;5;28menumerate\u001b[39m(reader):\n\u001b[1;32m      5\u001b[0m     \u001b[38;5;28;01mtry\u001b[39;00m:\n\u001b[1;32m      6\u001b[0m         _, corners \u001b[38;5;241m=\u001b[39m v2v\u001b[38;5;241m.\u001b[39mutils\u001b[38;5;241m.\u001b[39mlocate_aruco_markers(frame, [\u001b[38;5;241m0\u001b[39m, \u001b[38;5;241m1\u001b[39m, \u001b[38;5;241m2\u001b[39m, \u001b[38;5;241m3\u001b[39m])\n",
      "File \u001b[0;32m/usr/local/lib/python3.8/dist-packages/video2vision/io.py:218\u001b[0m, in \u001b[0;36mLoader.__iter__\u001b[0;34m(self)\u001b[0m\n\u001b[1;32m    215\u001b[0m \u001b[38;5;28mself\u001b[39m\u001b[38;5;241m.\u001b[39m_check_size(frame)\n\u001b[1;32m    216\u001b[0m \u001b[38;5;66;03m# Rescale to [0, 1] before returning\u001b[39;00m\n\u001b[1;32m    217\u001b[0m frame \u001b[38;5;241m=\u001b[39m _convert_and_scale_uint8(\n\u001b[0;32m--> 218\u001b[0m     frame, out\u001b[38;5;241m=\u001b[39m\u001b[38;5;28;43mself\u001b[39;49m\u001b[38;5;241;43m.\u001b[39;49m\u001b[43mbuff\u001b[49m\u001b[43m[\u001b[49m\u001b[38;5;28;43mself\u001b[39;49m\u001b[38;5;241;43m.\u001b[39;49m\u001b[43mt\u001b[49m\u001b[43m]\u001b[49m\n\u001b[1;32m    219\u001b[0m )\n\u001b[1;32m    220\u001b[0m \u001b[38;5;28mself\u001b[39m\u001b[38;5;241m.\u001b[39mt \u001b[38;5;241m+\u001b[39m\u001b[38;5;241m=\u001b[39m \u001b[38;5;241m1\u001b[39m\n\u001b[1;32m    221\u001b[0m \u001b[38;5;28;01myield\u001b[39;00m frame, name\n",
      "\u001b[0;31mTypeError\u001b[0m: 'NoneType' object is not subscriptable"
     ]
    }
   ],
   "source": [
    "image_size = get_size(IMAGE_PATH)\n",
    "reader = v2v.Loader(IMAGE_PATH, image_size)\n",
    "\n",
    "for t, (frame, _) in enumerate(reader):\n",
    "    try:\n",
    "        _, corners = v2v.utils.locate_aruco_markers(frame, [0, 1, 2, 3])\n",
    "    except RuntimeError:\n",
    "        continue\n",
    "    else:\n",
    "        break\n",
    "else:\n",
    "    raise RuntimeError('Failed to locate markers')"
   ]
  },
  {
   "cell_type": "markdown",
   "id": "a46c473f",
   "metadata": {},
   "source": [
    "We outline the ARUCO markers in green."
   ]
  },
  {
   "cell_type": "code",
   "execution_count": null,
   "id": "0eccbedb",
   "metadata": {},
   "outputs": [],
   "source": [
    "corners = corners.reshape(4, 4, 2).astype(np.int64)\n",
    "image = Image.fromarray(np.clip(256 * frame, 0, 255).astype(np.uint8))\n",
    "draw = ImageDraw.Draw(image)\n",
    "\n",
    "for box in corners:\n",
    "    for (x1, y1), (x2, y2) in zip(box[:-1], box[1:]):\n",
    "        draw.line((x1, y1, x2, y2), fill=(0, 255, 0), width=4)\n",
    "    draw.line((*box[-1], *box[0]), fill=(0, 255, 0), width=4)\n",
    "\n",
    "image = np.array(image)"
   ]
  },
  {
   "cell_type": "markdown",
   "id": "a4f738aa",
   "metadata": {},
   "source": [
    "Please then click on the centers of the samples."
   ]
  },
  {
   "cell_type": "code",
   "execution_count": null,
   "id": "dc1c4f6d",
   "metadata": {},
   "outputs": [],
   "source": [
    "selector = SampleSelector(\n",
    "    # Loader returns in BGR, but SampleSelector expects RGB\n",
    "    image[:, :, ::-1],\n",
    "    (1000, 1000),\n",
    "    scale_crosshair=True,\n",
    "    include_numbers=True,\n",
    ")\n",
    "display(selector)"
   ]
  },
  {
   "cell_type": "markdown",
   "id": "c221fc71",
   "metadata": {},
   "source": [
    "Finally, we load and calculate the expected values from the reflectivities and camera sensitivities, and build and save the AutoLinearizer."
   ]
  },
  {
   "cell_type": "code",
   "execution_count": null,
   "id": "7b6945b0",
   "metadata": {},
   "outputs": [],
   "source": [
    "linearization_sample_ref = np.genfromtxt(SAMPLE_REFLECTIVITIES_PATH, skip_header=True, delimiter=',')[:, 1:]\n",
    "camera_sense = np.genfromtxt(CAMERA_SENSE_PATH, skip_header=True, delimiter=',')[:, 1:]\n",
    "# Assume isoluminance\n",
    "pred_qc = linearization_sample_ref.T.dot(camera_sense)"
   ]
  },
  {
   "cell_type": "code",
   "execution_count": null,
   "id": "a478a48e",
   "metadata": {},
   "outputs": [],
   "source": [
    "autoline_op = v2v.AutoLinearize(\n",
    "    marker_ids=[0, 1, 2, 3],\n",
    "    marker_points=corners,\n",
    "    sample_points=selector.crosshairs,\n",
    "    expected_values=pred_qc,\n",
    ")"
   ]
  },
  {
   "cell_type": "code",
   "execution_count": null,
   "id": "2ec475f1",
   "metadata": {
    "scrolled": false
   },
   "outputs": [],
   "source": [
    "with open(OUTPUT_PATH, 'w') as out_file:\n",
    "    json.dump(autoline_op._to_json(), out_file)"
   ]
  }
 ],
 "metadata": {
  "kernelspec": {
   "display_name": "Python 3 (ipykernel)",
   "language": "python",
   "name": "python3"
  },
  "language_info": {
   "codemirror_mode": {
    "name": "ipython",
    "version": 3
   },
   "file_extension": ".py",
   "mimetype": "text/x-python",
   "name": "python",
   "nbconvert_exporter": "python",
   "pygments_lexer": "ipython3",
   "version": "3.8.10"
  }
 },
 "nbformat": 4,
 "nbformat_minor": 5
}
