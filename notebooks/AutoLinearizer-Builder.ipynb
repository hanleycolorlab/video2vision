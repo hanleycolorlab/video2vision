{
 "cells": [
  {
   "cell_type": "markdown",
   "id": "66eacf4f",
   "metadata": {},
   "source": [
    "This notebook is for building AutoLinearizers."
   ]
  },
  {
   "cell_type": "code",
   "execution_count": null,
   "id": "480456e4",
   "metadata": {},
   "outputs": [],
   "source": [
    "import json\n",
    "\n",
    "import video2vision as v2v\n",
    "import numpy as np\n",
    "from PIL import Image, ImageDraw\n",
    "\n",
    "from crosshairs import SampleSelector\n",
    "\n",
    "IMAGE_PATH = '/data/warm/color/camera_data/2022-09-23/VIS_vid/C0002.MP4'\n",
    "EXPECTED_VALUES_PATH = '../data/aruco_samples.csv'\n",
    "SAMPLE_REFLECTIVITIES_PATH = '../data/aruco_samples.csv'\n",
    "CAMERA_SENSE_PATH = '../data/camera_sensitivities.csv'\n",
    "OUTPUT_PATH = '../data/autolinearizer.json'"
   ]
  },
  {
   "cell_type": "markdown",
   "id": "d84c62b5",
   "metadata": {},
   "source": [
    "We begin by running the ARUCO detector on the input image."
   ]
  },
  {
   "cell_type": "code",
   "execution_count": null,
   "id": "79429039",
   "metadata": {},
   "outputs": [],
   "source": [
    "reader = v2v.Loader(IMAGE_PATH)\n",
    "\n",
    "for t, (frame, _) in enumerate(reader):\n",
    "    try:\n",
    "        _, corners = v2v.utils.locate_aruco_markers(frame, [0, 1, 2, 3])\n",
    "    except RuntimeError:\n",
    "        continue\n",
    "    else:\n",
    "        break\n",
    "else:\n",
    "    raise RuntimeError('Failed to locate markers')"
   ]
  },
  {
   "cell_type": "markdown",
   "id": "a46c473f",
   "metadata": {},
   "source": [
    "We outline the ARUCO markers in green."
   ]
  },
  {
   "cell_type": "code",
   "execution_count": null,
   "id": "0eccbedb",
   "metadata": {},
   "outputs": [],
   "source": [
    "corners = corners.reshape(4, 4, 2).astype(np.int64)\n",
    "image = Image.fromarray(np.clip(256 * frame, 0, 255).astype(np.uint8))\n",
    "draw = ImageDraw.Draw(image)\n",
    "\n",
    "for box in corners:\n",
    "    for (x1, y1), (x2, y2) in zip(box[:-1], box[1:]):\n",
    "        draw.line((x1, y1, x2, y2), fill=(0, 255, 0), width=4)\n",
    "    draw.line((*box[-1], *box[0]), fill=(0, 255, 0), width=4)\n",
    "\n",
    "image = np.array(image)"
   ]
  },
  {
   "cell_type": "markdown",
   "id": "a4f738aa",
   "metadata": {},
   "source": [
    "Please then click on the centers of the samples."
   ]
  },
  {
   "cell_type": "code",
   "execution_count": null,
   "id": "dc1c4f6d",
   "metadata": {},
   "outputs": [],
   "source": [
    "selector = SampleSelector(\n",
    "    # Loader returns in BGR, but SampleSelector expects RGB\n",
    "    image[:, :, ::-1],\n",
    "    (1000, 1000),\n",
    "    scale_crosshair=True,\n",
    "    include_numbers=True,\n",
    ")\n",
    "display(selector)"
   ]
  },
  {
   "cell_type": "markdown",
   "id": "c221fc71",
   "metadata": {},
   "source": [
    "Finally, we load and calculate the expected values from the reflectivities and camera sensitivities, and build and save the AutoLinearizer."
   ]
  },
  {
   "cell_type": "code",
   "execution_count": null,
   "id": "7b6945b0",
   "metadata": {},
   "outputs": [],
   "source": [
    "linearization_sample_ref = np.genfromtxt(SAMPLE_REFLECTIVITIES_PATH, skip_header=True, delimiter=',')[:, 1:]\n",
    "camera_sense = np.genfromtxt(CAMERA_SENSE_PATH, skip_header=True, delimiter=',')[:, 1:]\n",
    "# Assume isoluminance\n",
    "pred_qc = linearization_sample_ref.T.dot(camera_sense)"
   ]
  },
  {
   "cell_type": "code",
   "execution_count": null,
   "id": "a478a48e",
   "metadata": {},
   "outputs": [],
   "source": [
    "autoline_op = v2v.AutoLinearize(\n",
    "    marker_ids=[0, 1, 2, 3],\n",
    "    marker_points=corners,\n",
    "    sample_points=selector.crosshairs,\n",
    "    expected_values=pred_qc,\n",
    ")"
   ]
  },
  {
   "cell_type": "code",
   "execution_count": null,
   "id": "2ec475f1",
   "metadata": {
    "scrolled": false
   },
   "outputs": [],
   "source": [
    "with open(OUTPUT_PATH, 'w') as out_file:\n",
    "    json.dump(autoline_op._to_json(), out_file)"
   ]
  }
 ],
 "metadata": {
  "kernelspec": {
   "display_name": "Python 3 (ipykernel)",
   "language": "python",
   "name": "python3"
  },
  "language_info": {
   "codemirror_mode": {
    "name": "ipython",
    "version": 3
   },
   "file_extension": ".py",
   "mimetype": "text/x-python",
   "name": "python",
   "nbconvert_exporter": "python",
   "pygments_lexer": "ipython3",
   "version": "3.8.10"
  }
 },
 "nbformat": 4,
 "nbformat_minor": 5
}
